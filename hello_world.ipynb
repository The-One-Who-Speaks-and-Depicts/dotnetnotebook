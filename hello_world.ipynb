{
 "cells": [
  {
   "cell_type": "code",
   "execution_count": null,
   "metadata": {
    "dotnet_interactive": {
     "language": "csharp"
    },
    "vscode": {
     "languageId": "dotnet-interactive.csharp"
    }
   },
   "outputs": [
    {
     "data": {
      "text/html": [
       "<div><div></div><div></div><div><strong>Installed Packages</strong><ul><li><span>ExcelDataReader, 3.6.0</span></li><li><span>ExcelDataReader.DataSet, 3.6.0</span></li><li><span>ManuscriptsProcessor, 0.4.0.1</span></li></ul></div></div>"
      ]
     },
     "metadata": {},
     "output_type": "display_data"
    }
   ],
   "source": [
    "#r \"nuget: ExcelDataReader, 3.6.0\"\n",
    "#r \"nuget: ExcelDataReader.DataSet, 3.6.0\"\n",
    "#r \"nuget: ManuscriptsProcessor, 0.4.0.1\""
   ]
  },
  {
   "cell_type": "code",
   "execution_count": null,
   "metadata": {
    "dotnet_interactive": {
     "language": "csharp"
    },
    "vscode": {
     "languageId": "dotnet-interactive.csharp"
    }
   },
   "outputs": [],
   "source": [
    "using ExcelDataReader;\n",
    "using System.IO;\n",
    "using Newtonsoft.Json;\n",
    "using CorpusDraftCSharp;\n",
    "using System.Data;\n",
    "using System.Text;"
   ]
  },
  {
   "cell_type": "code",
   "execution_count": null,
   "metadata": {
    "dotnet_interactive": {
     "language": "csharp"
    },
    "vscode": {
     "languageId": "dotnet-interactive.csharp"
    }
   },
   "outputs": [],
   "source": [
    "Encoding.RegisterProvider(CodePagesEncodingProvider.Instance);"
   ]
  },
  {
   "cell_type": "code",
   "execution_count": null,
   "metadata": {
    "dotnet_interactive": {
     "language": "csharp"
    },
    "vscode": {
     "languageId": "dotnet-interactive.csharp"
    }
   },
   "outputs": [],
   "source": [
    "// File you want to preprocess should lie in subdirectory of the directory this notebook is situated in\n",
    "string fileDirPath = Path.Combine(Directory.GetCurrentDirectory(), \"files\");\n",
    "Directory.CreateDirectory(fileDirPath);\n",
    "string filename = await GetInputAsync(\"Insert the name of a file you want to preprocess\");"
   ]
  },
  {
   "cell_type": "code",
   "execution_count": null,
   "metadata": {
    "dotnet_interactive": {
     "language": "csharp"
    },
    "vscode": {
     "languageId": "dotnet-interactive.csharp"
    }
   },
   "outputs": [],
   "source": [
    "var documentID = await GetInputAsync(\"How many manuscripts do you have in the database?\");\n",
    "var documentName = await GetInputAsync(\"Insert the name of a current manuscript\");\n",
    "var googleDocPath = await GetInputAsync(\"Insert a link to the pdf file in google docs or type \\\"_\\\"\");\n",
    "var filePath = Path.Combine(fileDirPath, filename);\n",
    "var doc = new Document(documentID, documentName, filePath, googleDocPath);\n",
    "doc.documentMetaData = new();\n",
    "doc.documentMetaData.Add(new Dictionary<string, List<Value>>());\n",
    "doc.documentMetaData[0][\"Тип памятника\"] = new List<Value> {new Value(await GetInputAsync(\"Insert a manuscript type\"))};\n",
    "doc.documentMetaData[0][\"Объем\"] = new List<Value> {new Value(await GetInputAsync(\"Insert a manuscript size\"))};\n",
    "doc.documentMetaData[0][\"Материал\"] = new List<Value> {new Value(await GetInputAsync(\"Insert a manuscript material\"))};\n",
    "doc.documentMetaData[0][\"Датировка\"] = new List<Value> {new Value(await GetInputAsync(\"Insert a manuscript creation date\"))};\n",
    "doc.documentMetaData[0][\"Место создания\"] = new List<Value> {new Value(await GetInputAsync(\"Insert a manuscript creation place\"))};\n",
    "doc.documentMetaData[0][\"Место хранения\"] = new List<Value> {new Value(await GetInputAsync(\"Insert a manuscript storage place\"))};\n",
    "doc.documentMetaData[0][\"Инвентарный номер\"] = new List<Value> {new Value(await GetInputAsync(\"Insert a manuscript inventory number\"))};"
   ]
  },
  {
   "cell_type": "code",
   "execution_count": null,
   "metadata": {
    "dotnet_interactive": {
     "language": "csharp"
    },
    "vscode": {
     "languageId": "dotnet-interactive.csharp"
    }
   },
   "outputs": [],
   "source": [
    "System.Data.DataSet ds = new();\n",
    "\n",
    "using (var stream = File.Open(filePath, FileMode.Open, FileAccess.Read))\n",
    "{\n",
    "    IExcelDataReader reader;\n",
    "    reader = ExcelDataReader.ExcelReaderFactory.CreateReader(stream);\n",
    "    var conf = new ExcelDataSetConfiguration()\n",
    "    {\n",
    "        ConfigureDataTable = (tableReader) => new ExcelDataTableConfiguration()\n",
    "        {\n",
    "            UseHeaderRow = true\n",
    "        }\n",
    "    };\n",
    "    ds = reader.AsDataSet(conf);    \n",
    "}"
   ]
  },
  {
   "cell_type": "code",
   "execution_count": null,
   "metadata": {
    "dotnet_interactive": {
     "language": "csharp"
    },
    "vscode": {
     "languageId": "dotnet-interactive.csharp"
    }
   },
   "outputs": [
    {
     "name": "stdout",
     "output_type": "stream",
     "text": [
      "The next text looks like this:\r\n",
      "1 mi Noi mi zam. ličn. — — — mn. 1. l. — — — N 1  \r\n",
      "2 knez Conte knez im. — — — — jd. — — — m. N 4  \r\n",
      "3 zadarski di Zara zadarski prid. — — — — jd. — — — m. N 6  \r\n",
      "4 šuci giudice sudac im. — — — — mn. — — — m. N 8  \r\n",
      "5 od di od prij. — — — — — — — — — — 9  \r\n",
      "The next text looks like this:\r\n",
      "1 Noi mi noi zam. — — — — — 1  \r\n",
      "2 Angelo — Angelo im. — — sg. — m. —  \r\n",
      "3 Barbaro — Barbaro im. — — sg. — m. —  \r\n",
      "4 Conte knez conte im. — — sg. — m. 2  \r\n",
      "5 di — di prij. — — — — — —  \r\n"
     ]
    }
   ],
   "source": [
    "for (int i = 0; i < ds.Tables.Count; i++) {\n",
    "    Console.WriteLine(\"The next text looks like this:\");\n",
    "    ds.Tables[i].Head(5, true);\n",
    "    var textName = await GetInputAsync(\"Insert a name for the text\"); \n",
    "    var text = new Text(documentID, i.ToString(), textName, filePath);\n",
    "    text.textMetaData = new();\n",
    "    text.textMetaData.Add(new Dictionary<string, List<Value>>());\n",
    "    text.textMetaData[0][\"Письмо\"] = new List<Value> {new Value(await GetInputAsync(\"Insert a writing system of the manuscript\"))};\n",
    "    text.textMetaData[0][\"Язык\"] = new List<Value> {new Value(await GetInputAsync(\"Insert a manuscript language\"))};\n",
    "    List<string> fullText = new();\n",
    "    foreach (DataRow r in ds.Tables[i].Rows) {\n",
    "        fullText.Add(r[\"Token\"].ToString());\n",
    "    }\n",
    "    StringBuilder clsText = new();\n",
    "    clsText.AppendJoin(' ', fullText);\n",
    "    var cls = new Clause(documentID, i.ToString(), filePath, i.ToString(), clsText.ToString());\n",
    "    foreach (DataRow r in ds.Tables[i].Rows) {\n",
    "        var currentRealization = new Realization(documentID, filePath, i.ToString(), i.ToString(), r[\"Id\"].ToString(), r[\"Token\"].ToString(), r[\"Token\"].ToString());\n",
    "        currentRealization.realizationFields = new();\n",
    "        currentRealization.realizationFields.Add(new Dictionary<string,List<Value>>());\n",
    "        foreach (DataColumn column in ds.Tables[i].Columns) {\n",
    "            if (!(new List<string> {\"Id\", \"Token\"}).Contains(column.ColumnName.ToString())) {\n",
    "                if (r[column.ColumnName].ToString() != \"—\") currentRealization.realizationFields[0][column.ColumnName] = new List<Value>{new Value(r[column.ColumnName].ToString())};\n",
    "            }        \n",
    "        }\n",
    "        for (int j = 0; j < currentRealization.lexemeOne.Length; j++) {\n",
    "            currentRealization.letters.Add(new Grapheme(currentRealization, j.ToString(), currentRealization.lexemeOne[j].ToString()));\n",
    "        }\n",
    "        cls.realizations.Add(currentRealization);\n",
    "    }\n",
    "    text.clauses.Add(cls);\n",
    "    doc.texts.Add(text);    \n",
    "}"
   ]
  },
  {
   "cell_type": "code",
   "execution_count": null,
   "metadata": {
    "dotnet_interactive": {
     "language": "csharp"
    },
    "vscode": {
     "languageId": "dotnet-interactive.csharp"
    }
   },
   "outputs": [],
   "source": [
    "string jsonizedDoc = doc.Jsonize();"
   ]
  },
  {
   "cell_type": "code",
   "execution_count": null,
   "metadata": {
    "dotnet_interactive": {
     "language": "csharp"
    },
    "vscode": {
     "languageId": "dotnet-interactive.csharp"
    }
   },
   "outputs": [],
   "source": [
    "string finalFileName = doc.documentID + \"_\" + doc.documentName + \".json\";\n",
    "Directory.CreateDirectory(Path.Combine(Directory.GetCurrentDirectory(), \"files\", \"Output\"));\n",
    "string finalPath = Path.Combine(Directory.GetCurrentDirectory(), \"files\", \"Output\", finalFileName);\n",
    "using (StreamWriter sw = new(new FileStream(finalPath, FileMode.Create, FileAccess.Write))) {\n",
    "    sw.WriteLine(jsonizedDoc);\n",
    "}"
   ]
  },
  {
   "cell_type": "markdown",
   "metadata": {},
   "source": []
  }
 ],
 "metadata": {
  "kernelspec": {
   "display_name": ".NET (C#)",
   "language": "C#",
   "name": ".net-csharp"
  },
  "language_info": {
   "name": "C#"
  }
 },
 "nbformat": 4,
 "nbformat_minor": 2
}
