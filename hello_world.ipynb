{
 "cells": [
  {
   "cell_type": "code",
   "execution_count": null,
   "metadata": {
    "dotnet_interactive": {
     "language": "csharp"
    }
   },
   "outputs": [
    {
     "data": {
      "text/html": [
       "<div><div></div><div></div><div><strong>Installed Packages</strong><ul><li><span>ExcelDataReader, 3.6.0</span></li><li><span>ExcelDataReader.DataSet, 3.6.0</span></li></ul></div></div>"
      ]
     },
     "metadata": {},
     "output_type": "display_data"
    }
   ],
   "source": [
    "#r \"nuget: ExcelDataReader, 3.6.0\"\n",
    "#r \"nuget: ExcelDataReader.DataSet, 3.6.0\""
   ]
  },
  {
   "cell_type": "code",
   "execution_count": null,
   "metadata": {
    "dotnet_interactive": {
     "language": "csharp"
    }
   },
   "outputs": [],
   "source": [
    "using ExcelDataReader;"
   ]
  },
  {
   "cell_type": "code",
   "execution_count": null,
   "metadata": {
    "dotnet_interactive": {
     "language": "csharp"
    }
   },
   "outputs": [],
   "source": [
    "using System.IO;"
   ]
  },
  {
   "cell_type": "code",
   "execution_count": null,
   "metadata": {
    "dotnet_interactive": {
     "language": "csharp"
    }
   },
   "outputs": [],
   "source": [
    "string fileDirPath = Path.Combine(Directory.GetCurrentDirectory(), \"files\");"
   ]
  },
  {
   "cell_type": "code",
   "execution_count": null,
   "metadata": {
    "dotnet_interactive": {
     "language": "csharp"
    }
   },
   "outputs": [],
   "source": [
    "string filename = \"new@HR-DAZD-336.xlsx\";"
   ]
  },
  {
   "cell_type": "code",
   "execution_count": null,
   "metadata": {
    "dotnet_interactive": {
     "language": "csharp"
    }
   },
   "outputs": [],
   "source": [
    "System.Text.Encoding.RegisterProvider(System.Text.CodePagesEncodingProvider.Instance);"
   ]
  },
  {
   "cell_type": "code",
   "execution_count": null,
   "metadata": {
    "dotnet_interactive": {
     "language": "csharp"
    }
   },
   "outputs": [
    {
     "name": "stdout",
     "output_type": "stream",
     "text": [
      "Номер словоформы\r\n"
     ]
    }
   ],
   "source": [
    "using (var stream = File.Open(Path.Combine(fileDirPath, filename), FileMode.Open, FileAccess.Read))\n",
    "{\n",
    "    IExcelDataReader reader;\n",
    "    reader = ExcelDataReader.ExcelReaderFactory.CreateReader(stream);\n",
    "    var conf = new ExcelDataSetConfiguration()\n",
    "    {\n",
    "        ConfigureDataTable = (tableReader) => new ExcelDataTableConfiguration()\n",
    "        {\n",
    "            UseHeaderRow = true\n",
    "        }\n",
    "    };\n",
    "\n",
    "    var ds = reader.AsDataSet(conf);\n",
    "    Console.WriteLine(ds.Tables[0].Columns[0].ColumnName);\n",
    "    \n",
    "}"
   ]
  },
  {
   "cell_type": "code",
   "execution_count": null,
   "metadata": {
    "dotnet_interactive": {
     "language": "csharp"
    }
   },
   "outputs": [],
   "source": []
  }
 ],
 "metadata": {
  "kernelspec": {
   "display_name": ".NET (C#)",
   "language": "C#",
   "name": ".net-csharp"
  },
  "language_info": {
   "name": "C#"
  }
 },
 "nbformat": 4,
 "nbformat_minor": 2
}
