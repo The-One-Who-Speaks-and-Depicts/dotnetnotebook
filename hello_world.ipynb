{
 "cells": [
  {
   "cell_type": "code",
   "execution_count": null,
   "metadata": {
    "dotnet_interactive": {
     "language": "csharp"
    }
   },
   "outputs": [
    {
     "data": {
      "text/html": [
       "<div><div></div><div></div><div><strong>Installed Packages</strong><ul><li><span>ExcelDataReader, 3.6.0</span></li><li><span>ExcelDataReader.DataSet, 3.6.0</span></li></ul></div></div>"
      ]
     },
     "metadata": {},
     "output_type": "display_data"
    }
   ],
   "source": [
    "#r \"nuget: ExcelDataReader, 3.6.0\"\n",
    "#r \"nuget: ExcelDataReader.DataSet, 3.6.0\""
   ]
  },
  {
   "cell_type": "code",
   "execution_count": null,
   "metadata": {
    "dotnet_interactive": {
     "language": "csharp"
    }
   },
   "outputs": [
    {
     "data": {
      "text/html": [
       "<div><div></div><div></div><div><strong>Installed Packages</strong><ul><li><span>ManuscriptsProcessor, 0.4.0.1</span></li></ul></div></div>"
      ]
     },
     "metadata": {},
     "output_type": "display_data"
    }
   ],
   "source": [
    "#r \"nuget: ManuscriptsProcessor, 0.4.0.1\""
   ]
  },
  {
   "cell_type": "code",
   "execution_count": null,
   "metadata": {
    "dotnet_interactive": {
     "language": "csharp"
    }
   },
   "outputs": [],
   "source": [
    "using ExcelDataReader;"
   ]
  },
  {
   "cell_type": "code",
   "execution_count": null,
   "metadata": {
    "dotnet_interactive": {
     "language": "csharp"
    }
   },
   "outputs": [],
   "source": [
    "using System.IO;"
   ]
  },
  {
   "cell_type": "code",
   "execution_count": null,
   "metadata": {
    "dotnet_interactive": {
     "language": "csharp"
    }
   },
   "outputs": [],
   "source": [
    "using Newtonsoft.Json;"
   ]
  },
  {
   "cell_type": "code",
   "execution_count": null,
   "metadata": {
    "dotnet_interactive": {
     "language": "csharp"
    }
   },
   "outputs": [],
   "source": [
    "using CorpusDraftCSharp;"
   ]
  },
  {
   "cell_type": "code",
   "execution_count": null,
   "metadata": {
    "dotnet_interactive": {
     "language": "csharp"
    }
   },
   "outputs": [],
   "source": [
    "using System.Data;"
   ]
  },
  {
   "cell_type": "code",
   "execution_count": null,
   "metadata": {
    "dotnet_interactive": {
     "language": "csharp"
    }
   },
   "outputs": [],
   "source": [
    "string fileDirPath = Path.Combine(Directory.GetCurrentDirectory(), \"files\");"
   ]
  },
  {
   "cell_type": "code",
   "execution_count": null,
   "metadata": {
    "dotnet_interactive": {
     "language": "csharp"
    }
   },
   "outputs": [],
   "source": [
    "string filename = \"new@HR-DAZD-336.xlsx\";"
   ]
  },
  {
   "cell_type": "code",
   "execution_count": null,
   "metadata": {
    "dotnet_interactive": {
     "language": "csharp"
    }
   },
   "outputs": [],
   "source": [
    "System.Text.Encoding.RegisterProvider(System.Text.CodePagesEncodingProvider.Instance);"
   ]
  },
  {
   "cell_type": "code",
   "execution_count": null,
   "metadata": {
    "dotnet_interactive": {
     "language": "csharp"
    }
   },
   "outputs": [
    {
     "name": "stdout",
     "output_type": "stream",
     "text": [
      "1 mi Noi mi zam. ličn. — — — mn. 1. l. — — — N  \r\n",
      "2 knez Conte knez im. — — — — jd. — — — m. N  \r\n",
      "3 zadarski di Zara zadarski prid. — — — — jd. — — — m. N  \r\n",
      "4 šuci giudice sudac im. — — — — mn. — — — m. N  \r\n",
      "5 od di od prij. — — — — — — — — — —  \r\n"
     ]
    }
   ],
   "source": [
    "System.Data.DataSet ds = new();\n",
    "\n",
    "using (var stream = File.Open(Path.Combine(fileDirPath, filename), FileMode.Open, FileAccess.Read))\n",
    "{\n",
    "    IExcelDataReader reader;\n",
    "    reader = ExcelDataReader.ExcelReaderFactory.CreateReader(stream);\n",
    "    var conf = new ExcelDataSetConfiguration()\n",
    "    {\n",
    "        ConfigureDataTable = (tableReader) => new ExcelDataTableConfiguration()\n",
    "        {\n",
    "            UseHeaderRow = true\n",
    "        }\n",
    "    };\n",
    "\n",
    "    ds = reader.AsDataSet(conf);\n",
    "    ds.Tables[0].Head(5, true);\n",
    "    \n",
    "}"
   ]
  },
  {
   "cell_type": "code",
   "execution_count": null,
   "metadata": {
    "dotnet_interactive": {
     "language": "csharp"
    }
   },
   "outputs": [],
   "source": []
  },
  {
   "cell_type": "code",
   "execution_count": null,
   "metadata": {
    "dotnet_interactive": {
     "language": "csharp"
    }
   },
   "outputs": [],
   "source": [
    "var documentName = \"Указ князя Анджело Барбаро судьям Бибине и Боканяца\";\n",
    "var googleDocPath = \"_\";\n",
    "var filePath = \"_\";\n",
    "var fields = new Dictionary<string, string>();\n",
    "fields[\"Тип памятника\"] = \"Рукопись\";\n",
    "fields[\"Объем\"] = \"1 лист\";\n",
    "fields[\"Материал\"] = \"бумага\";\n",
    "fields[\"Датировка\"] = \"1727 г.\";\n",
    "fields[\"Место создания\"] = \"Задар\";\n",
    "fields[\"Место хранения\"] = \"Государственный архив Задара\";\n",
    "fields[\"Инвентарный номер\"] = \"HR-DAZD-336\";"
   ]
  },
  {
   "cell_type": "code",
   "execution_count": null,
   "metadata": {
    "dotnet_interactive": {
     "language": "csharp"
    }
   },
   "outputs": [],
   "source": [
    "var doc = new Document(\"0\", documentName, filePath, googleDocPath);\n",
    "doc.documentMetaData = new();\n",
    "doc.documentMetaData.Add(new Dictionary<string, List<Value>>());\n"
   ]
  },
  {
   "cell_type": "code",
   "execution_count": null,
   "metadata": {
    "dotnet_interactive": {
     "language": "csharp"
    }
   },
   "outputs": [],
   "source": [
    "foreach (KeyValuePair<string, string> kv in fields) {\n",
    "    doc.documentMetaData[0][kv.Key] = new List<Value> {new Value(kv.Value)};\n",
    "}"
   ]
  },
  {
   "cell_type": "code",
   "execution_count": null,
   "metadata": {
    "dotnet_interactive": {
     "language": "csharp"
    }
   },
   "outputs": [
    {
     "name": "stdout",
     "output_type": "stream",
     "text": [
      "Рукопись\r\n"
     ]
    }
   ],
   "source": [
    "Console.WriteLine(doc.documentMetaData[0][\"Тип памятника\"][0].name);"
   ]
  },
  {
   "cell_type": "code",
   "execution_count": null,
   "metadata": {
    "dotnet_interactive": {
     "language": "csharp"
    }
   },
   "outputs": [],
   "source": []
  },
  {
   "cell_type": "code",
   "execution_count": null,
   "metadata": {
    "dotnet_interactive": {
     "language": "csharp"
    }
   },
   "outputs": [],
   "source": []
  },
  {
   "cell_type": "code",
   "execution_count": null,
   "metadata": {
    "dotnet_interactive": {
     "language": "csharp"
    }
   },
   "outputs": [],
   "source": []
  },
  {
   "cell_type": "code",
   "execution_count": null,
   "metadata": {
    "dotnet_interactive": {
     "language": "csharp"
    }
   },
   "outputs": [
    {
     "name": "stdout",
     "output_type": "stream",
     "text": [
      "1\r\n",
      "2\r\n",
      "3\r\n",
      "4\r\n",
      "5\r\n",
      "6\r\n",
      "7\r\n",
      "8\r\n",
      "9\r\n",
      "10\r\n",
      "11\r\n",
      "12\r\n",
      "13\r\n",
      "14\r\n",
      "15\r\n",
      "16\r\n",
      "17\r\n",
      "18\r\n",
      "19\r\n",
      "20\r\n",
      "21\r\n",
      "22\r\n",
      "23\r\n",
      "24\r\n",
      "25\r\n",
      "26\r\n",
      "27\r\n",
      "28\r\n",
      "29\r\n",
      "30\r\n",
      "31\r\n",
      "32\r\n",
      "33\r\n",
      "34\r\n",
      "35\r\n",
      "36\r\n",
      "37\r\n",
      "38\r\n",
      "39\r\n",
      "40\r\n",
      "41\r\n",
      "42\r\n",
      "43\r\n",
      "44\r\n",
      "45\r\n",
      "46\r\n",
      "47\r\n",
      "48\r\n",
      "49\r\n",
      "50\r\n",
      "51\r\n",
      "52\r\n",
      "53\r\n",
      "54\r\n",
      "55\r\n",
      "56\r\n",
      "57\r\n",
      "58\r\n",
      "59\r\n",
      "60\r\n",
      "61\r\n",
      "62\r\n",
      "63\r\n",
      "64\r\n",
      "65\r\n",
      "66\r\n",
      "67\r\n",
      "68\r\n",
      "69\r\n",
      "70\r\n",
      "71\r\n",
      "72\r\n",
      "73\r\n",
      "74\r\n",
      "75\r\n",
      "76\r\n",
      "77\r\n",
      "78\r\n",
      "79\r\n",
      "80\r\n"
     ]
    }
   ],
   "source": [
    "\n",
    "    foreach (DataRow r in ds.Tables[0].Rows) {\n",
    "        Console.WriteLine(r[\"Id\"]);\n",
    "    }"
   ]
  },
  {
   "cell_type": "markdown",
   "metadata": {},
   "source": []
  }
 ],
 "metadata": {
  "kernelspec": {
   "display_name": ".NET (C#)",
   "language": "C#",
   "name": ".net-csharp"
  },
  "language_info": {
   "name": "C#"
  }
 },
 "nbformat": 4,
 "nbformat_minor": 2
}
