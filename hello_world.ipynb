{
 "cells": [
  {
   "cell_type": "code",
   "execution_count": null,
   "metadata": {
    "dotnet_interactive": {
     "language": "csharp"
    },
    "vscode": {
     "languageId": "dotnet-interactive.csharp"
    }
   },
   "outputs": [
    {
     "data": {
      "text/html": [
       "<div><div></div><div></div><div><strong>Installed Packages</strong><ul><li><span>ExcelDataReader, 3.6.0</span></li><li><span>ExcelDataReader.DataSet, 3.6.0</span></li><li><span>ManuscriptsProcessor, 0.4.0.1</span></li></ul></div></div>"
      ]
     },
     "metadata": {},
     "output_type": "display_data"
    }
   ],
   "source": [
    "#r \"nuget: ExcelDataReader, 3.6.0\"\n",
    "#r \"nuget: ExcelDataReader.DataSet, 3.6.0\"\n",
    "#r \"nuget: ManuscriptsProcessor, 0.4.0.1\""
   ]
  },
  {
   "cell_type": "code",
   "execution_count": null,
   "metadata": {
    "dotnet_interactive": {
     "language": "csharp"
    },
    "vscode": {
     "languageId": "dotnet-interactive.csharp"
    }
   },
   "outputs": [],
   "source": [
    "using ExcelDataReader;\n",
    "using System.IO;\n",
    "using Newtonsoft.Json;\n",
    "using CorpusDraftCSharp;\n",
    "using System.Data;\n",
    "using System;"
   ]
  },
  {
   "cell_type": "code",
   "execution_count": null,
   "metadata": {
    "dotnet_interactive": {
     "language": "csharp"
    },
    "vscode": {
     "languageId": "dotnet-interactive.csharp"
    }
   },
   "outputs": [],
   "source": [
    "System.Text.Encoding.RegisterProvider(System.Text.CodePagesEncodingProvider.Instance);"
   ]
  },
  {
   "cell_type": "code",
   "execution_count": null,
   "metadata": {
    "dotnet_interactive": {
     "language": "csharp"
    },
    "vscode": {
     "languageId": "dotnet-interactive.csharp"
    }
   },
   "outputs": [],
   "source": [
    "// File you want to preprocess should lie in subdirectory of the directory this notebook is situated in\n",
    "string fileDirPath = Path.Combine(Directory.GetCurrentDirectory(), \"files\");\n",
    "string filename = \"new@HR-DAZD-336_1.xlsx\";"
   ]
  },
  {
   "cell_type": "code",
   "execution_count": null,
   "metadata": {
    "dotnet_interactive": {
     "language": "csharp"
    },
    "vscode": {
     "languageId": "dotnet-interactive.csharp"
    }
   },
   "outputs": [],
   "source": [
    "System.Data.DataSet ds = new();\n",
    "\n",
    "using (var stream = File.Open(Path.Combine(fileDirPath, filename), FileMode.Open, FileAccess.Read))\n",
    "{\n",
    "    IExcelDataReader reader;\n",
    "    reader = ExcelDataReader.ExcelReaderFactory.CreateReader(stream);\n",
    "    var conf = new ExcelDataSetConfiguration()\n",
    "    {\n",
    "        ConfigureDataTable = (tableReader) => new ExcelDataTableConfiguration()\n",
    "        {\n",
    "            UseHeaderRow = true\n",
    "        }\n",
    "    };\n",
    "\n",
    "    ds = reader.AsDataSet(conf);    \n",
    "}"
   ]
  },
  {
   "cell_type": "code",
   "execution_count": null,
   "metadata": {
    "dotnet_interactive": {
     "language": "csharp"
    },
    "vscode": {
     "languageId": "dotnet-interactive.csharp"
    }
   },
   "outputs": [
    {
     "name": "stdout",
     "output_type": "stream",
     "text": [
      "1 mi Noi mi zam. ličn. — — — mn. 1. l. — — — N 1  \r\n",
      "2 knez Conte knez im. — — — — jd. — — — m. N 4  \r\n",
      "3 zadarski di Zara zadarski prid. — — — — jd. — — — m. N 6  \r\n",
      "4 šuci giudice sudac im. — — — — mn. — — — m. N 8  \r\n",
      "5 od di od prij. — — — — — — — — — — 9  \r\n"
     ]
    }
   ],
   "source": [
    "ds.Tables[0].Head(5, true);"
   ]
  },
  {
   "cell_type": "code",
   "execution_count": null,
   "metadata": {
    "dotnet_interactive": {
     "language": "csharp"
    },
    "vscode": {
     "languageId": "dotnet-interactive.csharp"
    }
   },
   "outputs": [],
   "source": [
    "var documentName = \"Указ князя Анджело Барбаро судьям Бибине и Боканяца\";\n",
    "var googleDocPath = \"_\";\n",
    "var filePath = \"_\";\n",
    "var fields = new Dictionary<string, string>();\n",
    "fields[\"Тип памятника\"] = \"Рукопись\";\n",
    "fields[\"Объем\"] = \"1 лист\";\n",
    "fields[\"Материал\"] = \"бумага\";\n",
    "fields[\"Датировка\"] = \"1727 г.\";\n",
    "fields[\"Место создания\"] = \"Задар\";\n",
    "fields[\"Место хранения\"] = \"Государственный архив Задара\";\n",
    "fields[\"Инвентарный номер\"] = \"HR-DAZD-336\";"
   ]
  },
  {
   "cell_type": "code",
   "execution_count": null,
   "metadata": {
    "dotnet_interactive": {
     "language": "csharp"
    },
    "vscode": {
     "languageId": "dotnet-interactive.csharp"
    }
   },
   "outputs": [],
   "source": [
    "var doc = new Document(\"2\", documentName, filePath, googleDocPath);\n",
    "doc.documentMetaData = new();\n",
    "doc.documentMetaData.Add(new Dictionary<string, List<Value>>());\n"
   ]
  },
  {
   "cell_type": "code",
   "execution_count": null,
   "metadata": {
    "dotnet_interactive": {
     "language": "csharp"
    },
    "vscode": {
     "languageId": "dotnet-interactive.csharp"
    }
   },
   "outputs": [],
   "source": [
    "foreach (KeyValuePair<string, string> kv in fields) {\n",
    "    doc.documentMetaData[0][kv.Key] = new List<Value> {new Value(kv.Value)};\n",
    "}"
   ]
  },
  {
   "cell_type": "code",
   "execution_count": null,
   "metadata": {
    "dotnet_interactive": {
     "language": "csharp"
    },
    "vscode": {
     "languageId": "dotnet-interactive.csharp"
    }
   },
   "outputs": [],
   "source": [
    "var croatianTextName = \"Croatian text\";\n",
    "var croatianTextFields = new Dictionary<string, string>();\n",
    "croatianTextFields[\"Письмо\"] = \"глаголица\";\n",
    "croatianTextFields[\"Язык\"] = \"хорватский\";\n",
    "var italianTextName = \"Italian text\";\n",
    "var italianTextFields = new Dictionary<string, string>();\n",
    "italianTextFields[\"Письмо\"] = \"латиница\";\n",
    "italianTextFields[\"Язык\"] = \"итальянский\";"
   ]
  },
  {
   "cell_type": "code",
   "execution_count": null,
   "metadata": {
    "dotnet_interactive": {
     "language": "csharp"
    },
    "vscode": {
     "languageId": "dotnet-interactive.csharp"
    }
   },
   "outputs": [],
   "source": [
    "var txtCr = new Text(\"2\", \"0\", croatianTextName, filePath);\n",
    "var txtIt = new Text(\"2\", \"1\", italianTextName, filePath);\n",
    "txtCr.textMetaData = new();\n",
    "txtCr.textMetaData.Add(new Dictionary<string, List<Value>>());\n",
    "foreach (KeyValuePair<string, string> kv in croatianTextFields) {\n",
    "    txtCr.textMetaData[0][kv.Key] = new List<Value> {new Value(kv.Value)};\n",
    "}\n",
    "txtIt.textMetaData = new();\n",
    "txtIt.textMetaData.Add(new Dictionary<string, List<Value>>());\n",
    "foreach (KeyValuePair<string, string> kv in croatianTextFields) {\n",
    "    txtIt.textMetaData[0][kv.Key] = new List<Value> {new Value(kv.Value)};\n",
    "}"
   ]
  },
  {
   "cell_type": "code",
   "execution_count": null,
   "metadata": {
    "dotnet_interactive": {
     "language": "csharp"
    },
    "vscode": {
     "languageId": "dotnet-interactive.csharp"
    }
   },
   "outputs": [],
   "source": [
    "public enum Languages {\n",
    "    CROATIAN = 0,\n",
    "    ITALIAN = 1\n",
    "}"
   ]
  },
  {
   "cell_type": "code",
   "execution_count": null,
   "metadata": {
    "dotnet_interactive": {
     "language": "csharp"
    },
    "vscode": {
     "languageId": "dotnet-interactive.csharp"
    }
   },
   "outputs": [],
   "source": [
    "for (int i = 0; i < ds.Tables.Count; i++) {\n",
    "    List<string> fullText = new();\n",
    "    foreach (DataRow r in ds.Tables[i].Rows) {\n",
    "        fullText.Add(r[\"Token\"].ToString());\n",
    "    }\n",
    "    StringBuilder clsText = new();\n",
    "    clsText.AppendJoin(' ', fullText);\n",
    "    var cls = new Clause(\"2\", \"0\", filePath, i.ToString(), clsText.ToString());\n",
    "    foreach (DataRow r in ds.Tables[i].Rows) {\n",
    "        var currentRealization = new Realization(\"2\", filePath, \"0\", i.ToString(), r[\"Id\"].ToString(), r[\"Token\"].ToString(), r[\"Token\"].ToString());\n",
    "        currentRealization.realizationFields = new();\n",
    "        currentRealization.realizationFields.Add(new Dictionary<string,List<Value>>());\n",
    "        foreach (DataColumn column in ds.Tables[i].Columns) {\n",
    "            if (!(new List<string> {\"Id\", \"Token\"}).Contains(column.ColumnName.ToString())) {\n",
    "                if (r[column.ColumnName].ToString() != \"—\") currentRealization.realizationFields[0][column.ColumnName] = new List<Value>{new Value(r[column.ColumnName].ToString())};\n",
    "            }        \n",
    "        }\n",
    "        for (int j = 0; j < currentRealization.lexemeOne.Length; j++) {\n",
    "            currentRealization.letters.Add(new Grapheme(currentRealization, j.ToString(), currentRealization.lexemeOne[j].ToString()));\n",
    "        }\n",
    "        cls.realizations.Add(currentRealization);\n",
    "    }\n",
    "    switch(i) {\n",
    "        case (byte) Languages.ITALIAN: \n",
    "            txtIt.clauses.Add(cls);\n",
    "            break;\n",
    "        case (byte) Languages.CROATIAN:\n",
    "        default:\n",
    "            txtCr.clauses.Add(cls);\n",
    "            break;\n",
    "    }\n",
    "}\n"
   ]
  },
  {
   "cell_type": "code",
   "execution_count": null,
   "metadata": {
    "dotnet_interactive": {
     "language": "csharp"
    },
    "vscode": {
     "languageId": "dotnet-interactive.csharp"
    }
   },
   "outputs": [],
   "source": [
    "doc.texts.Add(txtCr);\n",
    "doc.texts.Add(txtIt);"
   ]
  },
  {
   "cell_type": "code",
   "execution_count": null,
   "metadata": {
    "dotnet_interactive": {
     "language": "csharp"
    },
    "vscode": {
     "languageId": "dotnet-interactive.csharp"
    }
   },
   "outputs": [],
   "source": [
    "string jsonizedDoc = doc.Jsonize();"
   ]
  },
  {
   "cell_type": "code",
   "execution_count": null,
   "metadata": {
    "dotnet_interactive": {
     "language": "csharp"
    },
    "vscode": {
     "languageId": "dotnet-interactive.csharp"
    }
   },
   "outputs": [],
   "source": [
    "string finalFileName = doc.documentID + \"_\" + doc.documentName + \".json\";\n",
    "Directory.CreateDirectory(Path.Combine(Directory.GetCurrentDirectory(), \"files\", \"Output\"));\n",
    "string finalPath = Path.Combine(Directory.GetCurrentDirectory(), \"files\", \"Output\", finalFileName);\n",
    "using (StreamWriter sw = new(new FileStream(finalPath, FileMode.Create, FileAccess.Write))) {\n",
    "    sw.WriteLine(jsonizedDoc);\n",
    "}"
   ]
  },
  {
   "cell_type": "markdown",
   "metadata": {},
   "source": []
  }
 ],
 "metadata": {
  "kernelspec": {
   "display_name": ".NET (C#)",
   "language": "C#",
   "name": ".net-csharp"
  },
  "language_info": {
   "name": "C#"
  }
 },
 "nbformat": 4,
 "nbformat_minor": 2
}
