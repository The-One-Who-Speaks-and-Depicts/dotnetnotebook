{
 "cells": [
  {
   "cell_type": "code",
   "execution_count": null,
   "metadata": {
    "dotnet_interactive": {
     "language": "csharp"
    },
    "vscode": {
     "languageId": "dotnet-interactive.csharp"
    }
   },
   "outputs": [
    {
     "data": {
      "text/html": [
       "<div><div></div><div></div><div><strong>Installed Packages</strong><ul><li><span>ExcelDataReader, 3.6.0</span></li><li><span>ExcelDataReader.DataSet, 3.6.0</span></li><li><span>ManuscriptsProcessor, 0.4.0.1</span></li></ul></div></div>"
      ]
     },
     "metadata": {},
     "output_type": "display_data"
    }
   ],
   "source": [
    "#r \"nuget: ExcelDataReader, 3.6.0\"\n",
    "#r \"nuget: ExcelDataReader.DataSet, 3.6.0\"\n",
    "#r \"nuget: ManuscriptsProcessor, 0.4.0.1\""
   ]
  },
  {
   "cell_type": "code",
   "execution_count": null,
   "metadata": {
    "dotnet_interactive": {
     "language": "csharp"
    },
    "vscode": {
     "languageId": "dotnet-interactive.csharp"
    }
   },
   "outputs": [],
   "source": [
    "using ExcelDataReader;\n",
    "using System.IO;\n",
    "using Newtonsoft.Json;\n",
    "using CorpusDraftCSharp;\n",
    "using System.Data;\n",
    "using System.Text;"
   ]
  },
  {
   "cell_type": "code",
   "execution_count": null,
   "metadata": {
    "dotnet_interactive": {
     "language": "csharp"
    },
    "vscode": {
     "languageId": "dotnet-interactive.csharp"
    }
   },
   "outputs": [],
   "source": [
    "Encoding.RegisterProvider(CodePagesEncodingProvider.Instance);"
   ]
  },
  {
   "cell_type": "code",
   "execution_count": null,
   "metadata": {
    "dotnet_interactive": {
     "language": "csharp"
    },
    "vscode": {
     "languageId": "dotnet-interactive.csharp"
    }
   },
   "outputs": [],
   "source": [
    "// File you want to preprocess should lie in subdirectory of the directory this notebook is situated in\n",
    "string fileDirPath = Path.Combine(Directory.GetCurrentDirectory(), \"files\");\n",
    "Directory.CreateDirectory(fileDirPath);\n",
    "string filename = await GetInputAsync(\"Insert the name of a file you want to preprocess\");"
   ]
  },
  {
   "cell_type": "code",
   "execution_count": null,
   "metadata": {
    "dotnet_interactive": {
     "language": "csharp"
    },
    "vscode": {
     "languageId": "dotnet-interactive.csharp"
    }
   },
   "outputs": [],
   "source": [
    "var documentID = await GetInputAsync(\"How many manuscripts do you have in the database?\");\n",
    "var documentName = await GetInputAsync(\"Insert the name of a current manuscript\");\n",
    "var googleDocPath = await GetInputAsync(\"Insert a link to the pdf file in google docs or type \\\"_\\\"\");\n",
    "var filePath = Path.Combine(fileDirPath, filename);\n",
    "var doc = new Document(documentID, documentName, filePath, googleDocPath);\n",
    "doc.documentMetaData = new();\n",
    "doc.documentMetaData.Add(new Dictionary<string, List<Value>>());\n",
    "doc.documentMetaData[0][\"Тип памятника\"] = new List<Value> {new Value(await GetInputAsync(\"Insert a manuscript type\"))};\n",
    "doc.documentMetaData[0][\"Объем\"] = new List<Value> {new Value(await GetInputAsync(\"Insert a manuscript size\"))};\n",
    "doc.documentMetaData[0][\"Материал\"] = new List<Value> {new Value(await GetInputAsync(\"Insert a manuscript material\"))};\n",
    "doc.documentMetaData[0][\"Датировка\"] = new List<Value> {new Value(await GetInputAsync(\"Insert a manuscript creation date\"))};\n",
    "doc.documentMetaData[0][\"Место создания\"] = new List<Value> {new Value(await GetInputAsync(\"Insert a manuscript creation place\"))};\n",
    "doc.documentMetaData[0][\"Место хранения\"] = new List<Value> {new Value(await GetInputAsync(\"Insert a manuscript storage place\"))};\n",
    "doc.documentMetaData[0][\"Инвентарный номер\"] = new List<Value> {new Value(await GetInputAsync(\"Insert a manuscript inventory number\"))};"
   ]
  },
  {
   "cell_type": "code",
   "execution_count": null,
   "metadata": {
    "dotnet_interactive": {
     "language": "csharp"
    },
    "vscode": {
     "languageId": "dotnet-interactive.csharp"
    }
   },
   "outputs": [],
   "source": [
    "System.Data.DataSet ds = new();\n",
    "\n",
    "using (var stream = File.Open(filePath, FileMode.Open, FileAccess.Read))\n",
    "{\n",
    "    IExcelDataReader reader;\n",
    "    reader = ExcelDataReader.ExcelReaderFactory.CreateReader(stream);\n",
    "    var conf = new ExcelDataSetConfiguration()\n",
    "    {\n",
    "        ConfigureDataTable = (tableReader) => new ExcelDataTableConfiguration()\n",
    "        {\n",
    "            UseHeaderRow = true\n",
    "        }\n",
    "    };\n",
    "    ds = reader.AsDataSet(conf);    \n",
    "}"
   ]
  },
  {
   "cell_type": "code",
   "execution_count": null,
   "metadata": {
    "dotnet_interactive": {
     "language": "csharp"
    },
    "vscode": {
     "languageId": "dotnet-interactive.csharp"
    }
   },
   "outputs": [
    {
     "name": "stdout",
     "output_type": "stream",
     "text": [
      "The next text looks like this:\r\n",
      "1 Noi noi pron. — — — — —    \r\n",
      "2 Angelo Angelo noun — — sg. — m.    \r\n",
      "3 Barbaro Barbaro noun — — sg. — m.    \r\n",
      "4 Conte conte noun — — sg. — m.    \r\n",
      "5 di di prep. — — — — —    \r\n",
      "The next text looks like this:\r\n",
      "1 mi mi pron. pers. — — — pl. 1. p. — — — N    \r\n",
      "2 knez knez noun — — — — sg. — — — m. N    \r\n",
      "3 zadarski zadarski adj. — — — — sg. — — — m. N    \r\n",
      "4 šuci sudac noun — — — — pl. — — — m. N    \r\n",
      "5 od od prep. — — — — — — — — — —    \r\n"
     ]
    }
   ],
   "source": [
    "for (int i = 0; i < ds.Tables.Count; i++) {\n",
    "    Console.WriteLine(\"The next text looks like this:\");\n",
    "    ds.Tables[i].Head(5, true);\n",
    "    var textName = await GetInputAsync(\"Insert a name for the text\"); \n",
    "    var text = new Text(documentID, i.ToString(), textName, filePath);\n",
    "    text.textMetaData = new();\n",
    "    text.textMetaData.Add(new Dictionary<string, List<Value>>());\n",
    "    text.textMetaData[0][\"Письмо\"] = new List<Value> {new Value(await GetInputAsync(\"Insert a writing system of the manuscript\"))};\n",
    "    text.textMetaData[0][\"Язык\"] = new List<Value> {new Value(await GetInputAsync(\"Insert a manuscript language\"))};\n",
    "    List<string> fullText = new();\n",
    "    foreach (DataRow r in ds.Tables[i].Rows) {\n",
    "        fullText.Add(r[\"Token\"].ToString());\n",
    "    }\n",
    "    StringBuilder clsText = new();\n",
    "    clsText.AppendJoin(' ', fullText);\n",
    "    var cls = new Clause(documentID, i.ToString(), filePath, i.ToString(), clsText.ToString());\n",
    "    foreach (DataRow r in ds.Tables[i].Rows) {\n",
    "        var currentRealization = new Realization(documentID, filePath, i.ToString(), i.ToString(), r[\"Id\"].ToString(), r[\"Token\"].ToString(), r[\"Token\"].ToString());\n",
    "        currentRealization.realizationFields = new();\n",
    "        currentRealization.realizationFields.Add(new Dictionary<string,List<Value>>());\n",
    "        foreach (DataColumn column in ds.Tables[i].Columns) {\n",
    "            if (!(new List<string> {\"Id\", \"Token\"}).Contains(column.ColumnName.ToString())) {\n",
    "                if (r[column.ColumnName].ToString() != \"—\") currentRealization.realizationFields[0][column.ColumnName] = new List<Value>{new Value(r[column.ColumnName].ToString())};\n",
    "            }        \n",
    "        }\n",
    "        for (int j = 0; j < currentRealization.lexemeOne.Length; j++) {\n",
    "            currentRealization.letters.Add(new Grapheme(currentRealization, j.ToString(), currentRealization.lexemeOne[j].ToString()));\n",
    "        }\n",
    "        cls.realizations.Add(currentRealization);\n",
    "    }\n",
    "    text.clauses.Add(cls);\n",
    "    doc.texts.Add(text);    \n",
    "}"
   ]
  },
  {
   "cell_type": "code",
   "execution_count": null,
   "metadata": {
    "dotnet_interactive": {
     "language": "csharp"
    },
    "vscode": {
     "languageId": "dotnet-interactive.csharp"
    }
   },
   "outputs": [],
   "source": [
    "string jsonizedDoc = doc.Jsonize();"
   ]
  },
  {
   "cell_type": "code",
   "execution_count": null,
   "metadata": {
    "dotnet_interactive": {
     "language": "csharp"
    },
    "vscode": {
     "languageId": "dotnet-interactive.csharp"
    }
   },
   "outputs": [
    {
     "ename": "Error",
     "evalue": "(5,18): error CS0103: Имя \"jsonizedDoc\" не существует в текущем контексте.",
     "output_type": "error",
     "traceback": [
      "(5,18): error CS0103: Имя \"jsonizedDoc\" не существует в текущем контексте."
     ]
    }
   ],
   "source": [
    "string finalFileName = doc.documentID + \"_\" + doc.documentName + \".json\";\n",
    "Directory.CreateDirectory(Path.Combine(Directory.GetCurrentDirectory(), \"files\", \"Output\"));\n",
    "string finalPath = Path.Combine(Directory.GetCurrentDirectory(), \"files\", \"Output\", finalFileName);\n",
    "using (StreamWriter sw = new(new FileStream(finalPath, FileMode.Create, FileAccess.Write))) {\n",
    "    sw.WriteLine(jsonizedDoc);\n",
    "}"
   ]
  },
  {
   "cell_type": "code",
   "execution_count": null,
   "metadata": {
    "dotnet_interactive": {
     "language": "csharp"
    },
    "vscode": {
     "languageId": "dotnet-interactive.csharp"
    }
   },
   "outputs": [],
   "source": [
    "string docName = await GetInputAsync(\"Insert the name of a file (without extension)\");"
   ]
  },
  {
   "cell_type": "code",
   "execution_count": null,
   "metadata": {
    "dotnet_interactive": {
     "language": "csharp"
    },
    "vscode": {
     "languageId": "dotnet-interactive.csharp"
    }
   },
   "outputs": [],
   "source": [
    "Document docToParallelize = new();"
   ]
  },
  {
   "cell_type": "code",
   "execution_count": null,
   "metadata": {
    "dotnet_interactive": {
     "language": "csharp"
    },
    "vscode": {
     "languageId": "dotnet-interactive.csharp"
    }
   },
   "outputs": [],
   "source": [
    "\n",
    "using (StreamReader sr = new(new FileStream(Path.Combine(Directory.GetCurrentDirectory(), \"files\", \"Output\", docName + \".json\"), FileMode.Open, FileAccess.Read))) \n",
    "{\n",
    "    docToParallelize = JsonConvert.DeserializeObject<Document>(sr.ReadToEnd());\n",
    "}"
   ]
  },
  {
   "cell_type": "code",
   "execution_count": null,
   "metadata": {
    "dotnet_interactive": {
     "language": "csharp"
    },
    "vscode": {
     "languageId": "dotnet-interactive.csharp"
    }
   },
   "outputs": [],
   "source": [
    "public class RealizationGroup : List<Realization>\n",
    "{\n",
    "    public string documentID { get; set; }\n",
    "    public string textID { get; set; }\n",
    "    public string clauseID { get; set; }\n",
    "    public RealizationGroup()\n",
    "    {\n",
    "\n",
    "    }\n",
    "}"
   ]
  },
  {
   "cell_type": "code",
   "execution_count": null,
   "metadata": {
    "dotnet_interactive": {
     "language": "csharp"
    },
    "vscode": {
     "languageId": "dotnet-interactive.csharp"
    }
   },
   "outputs": [],
   "source": [
    "public class ParallelToken : List<RealizationGroup>\n",
    "{\n",
    "\n",
    "    public List<RealizationGroup> GetParallels(RealizationGroup source)\n",
    "    {\n",
    "        var parallels = this.Where(r => r != source).ToList();\n",
    "        return parallels;\n",
    "    }\n",
    "    public ParallelToken()\n",
    "    {\n",
    "\n",
    "    }\n",
    "}"
   ]
  },
  {
   "cell_type": "code",
   "execution_count": null,
   "metadata": {
    "dotnet_interactive": {
     "language": "csharp"
    },
    "vscode": {
     "languageId": "dotnet-interactive.csharp"
    }
   },
   "outputs": [],
   "source": [
    "[Serializable]\n",
    "public class ParallelDocument {\n",
    "    [JsonProperty]\n",
    "    public string id;\n",
    "    [JsonProperty]\n",
    "    public string name;\n",
    "    [JsonProperty]\n",
    "    public List<Dictionary<string, List<Value>>> documentMetaData;\n",
    "    [JsonProperty]\n",
    "    public ParallelClause[,] parallelClauses;\n",
    "    public List<ParallelToken> parallelTokens;\n",
    "    public string Jsonize()\n",
    "    {\n",
    "        string json = JsonConvert.SerializeObject(this, Formatting.Indented);\n",
    "        return json;\n",
    "    }\n",
    "}"
   ]
  },
  {
   "cell_type": "code",
   "execution_count": null,
   "metadata": {
    "dotnet_interactive": {
     "language": "csharp"
    },
    "vscode": {
     "languageId": "dotnet-interactive.csharp"
    }
   },
   "outputs": [],
   "source": [
    "[Serializable]\n",
    "    public class Realization : IEquatable<Realization>\n",
    "    {\n",
    "\n",
    "        #region objectValues\n",
    "        [JsonProperty]\n",
    "        public string documentID;\n",
    "        [JsonProperty]\n",
    "        public string filePath;\n",
    "        [JsonProperty]\n",
    "        public string textID;\n",
    "        [JsonProperty]\n",
    "        public string clauseID;\n",
    "        [JsonProperty]\n",
    "        public List<Dictionary<string, List<Value>>> realizationFields;\n",
    "        [JsonProperty]\n",
    "        public string realizationID;\n",
    "        [JsonProperty]\n",
    "        public string lexemeOne;\n",
    "        [JsonProperty]\n",
    "        public string lexemeTwo;\n",
    "        [JsonProperty]\n",
    "        public List<Grapheme> letters = new List<Grapheme>();\n",
    "        #endregion\n",
    "\n",
    "        #region Constructors\n",
    "\n",
    "        [JsonConstructor]\n",
    "        public Realization(string _documentID, string _filePath, string _textID, string _clauseID, List<Dictionary<string, List<Value>>> _fields, string _realizationID, string _lexemeOne, string _lexemeTwo, List<Grapheme> _letters)\n",
    "        {\n",
    "            this.documentID = _documentID;\n",
    "            this.filePath = _filePath;\n",
    "            this.textID = _textID;\n",
    "            this.clauseID = _clauseID;\n",
    "            this.realizationFields = _fields;\n",
    "            this.realizationID = _realizationID;\n",
    "            this.lexemeOne = _lexemeOne;\n",
    "            this.lexemeTwo = _lexemeTwo;\n",
    "            this.letters = _letters;\n",
    "        }\n",
    "\n",
    "        public Realization(Clause clause, string _realizationID, string _lexemeOne, string _lexemeTwo)\n",
    "        {\n",
    "            this.documentID = clause.documentID;\n",
    "            this.filePath = clause.filePath;\n",
    "            this.textID = clause.textID;\n",
    "            this.clauseID = clause.clauseID;\n",
    "            this.realizationID = _realizationID;\n",
    "            this.lexemeOne = _lexemeOne;\n",
    "            this.lexemeTwo = _lexemeTwo;\n",
    "        }\n",
    "\n",
    "\n",
    "        public Realization(string _documentID, string _filePath, string _textID, string _clauseID, string _realizationID, string _lexemeOne, string _lexemeTwo)\n",
    "        {\n",
    "            this.documentID = _documentID;\n",
    "            this.filePath = _filePath;\n",
    "            this.textID = _textID;\n",
    "            this.clauseID = _clauseID;\n",
    "            this.realizationID = _realizationID;\n",
    "            this.lexemeOne = _lexemeOne;\n",
    "            this.lexemeTwo = _lexemeTwo;\n",
    "        }\n",
    "\n",
    "        public Realization()\n",
    "        {\n",
    "\n",
    "        }\n",
    "\n",
    "\n",
    "        #endregion\n",
    "\n",
    "        #region publicMethods\n",
    "\n",
    "        public string Jsonize()\n",
    "        {\n",
    "            string realizationToJson = JsonConvert.SerializeObject(this, Formatting.Indented);\n",
    "            return realizationToJson;\n",
    "        }\n",
    "\n",
    "        public string Output()\n",
    "        {\n",
    "            Func<string> graphemes = () =>\n",
    "            {\n",
    "                string collected = \"\";\n",
    "                foreach (var l in letters.OrderBy(graheme => Convert.ToInt32(graheme.documentID)).ThenBy(graheme => Convert.ToInt32(graheme.textID)).ThenBy(grapheme => Convert.ToInt32(grapheme.clauseID)).ThenBy(graheme => Convert.ToInt32(graheme.realizationID)).ThenBy(graheme => Convert.ToInt32(graheme.graphemeID)))\n",
    "                {\n",
    "                    collected += l.Output();\n",
    "                }\n",
    "                return collected;\n",
    "            };\n",
    "            try\n",
    "            {\n",
    "                Func<List<Dictionary<string, List<Value>>>, string> fieldsInRawText = (List<Dictionary<string, List<Value>>> fields) =>\n",
    "                {\n",
    "                    string result = \"\";\n",
    "                    foreach (var optional_tagging in fields)\n",
    "                    {\n",
    "                        if (optional_tagging.Count > 0)\n",
    "                        {\n",
    "                            foreach (var field in optional_tagging)\n",
    "                            {\n",
    "                                result += field.Key;\n",
    "                                result += \":\";\n",
    "                                for (int i = 0; i < field.Value.Count; i++)\n",
    "                                {\n",
    "                                    result += field.Value[i].name;\n",
    "                                    if (i < field.Value.Count - 1)\n",
    "                                    {\n",
    "                                        result += \",\";\n",
    "                                    }\n",
    "                                }\n",
    "                                result += \";\\n\";\n",
    "                            }\n",
    "                            result += \"***\";\n",
    "                        }\n",
    "                    }\n",
    "                    return result;\n",
    "                };\n",
    "                Func<List<Dictionary<string, List<Value>>>, string> fieldsInHTML = (List<Dictionary<string, List<Value>>> fields) =>\n",
    "                {\n",
    "                    return fieldsInRawText.Invoke(fields).Replace(\"\\n\", \"<br />\");\n",
    "                };\n",
    "                return \"<span title=\\\"\" + fieldsInRawText.Invoke(realizationFields) + \"\\\" data-content=\\\"\" + fieldsInHTML.Invoke(realizationFields) + \"\\\" class=\\\"word\\\" id=\\\"\" + this.documentID + \"|\" + this.textID + \"|\" + this.clauseID + \"|\" + this.realizationID + \"\\\"> \" + graphemes.Invoke() + \"</span>\";\n",
    "            }\n",
    "            catch\n",
    "            {\n",
    "                return \"<span title= \\\"\\\" data-content=\\\"\\\" class=\\\"word\\\" id=\\\"\" + this.documentID + \"|\" + this.textID +  \"|\" + this.clauseID + \"|\" + this.realizationID + \"\\\"> \" + graphemes.Invoke() + \"</span>\";\n",
    "            }\n",
    "        }\n",
    "\n",
    "        public string KeyOutput()\n",
    "        {\n",
    "            try\n",
    "            {\n",
    "                Func<List<Dictionary<string, List<Value>>>, string> fieldsInRawText = (List<Dictionary<string, List<Value>>> fields) =>\n",
    "                {\n",
    "                    string result = \"\";\n",
    "                    foreach (var optional_tagging in fields)\n",
    "                    {\n",
    "                        if (optional_tagging.Count > 0)\n",
    "                        {\n",
    "                            foreach (var field in optional_tagging)\n",
    "                            {\n",
    "                                result += field.Key;\n",
    "                                result += \":\";\n",
    "                                for (int i = 0; i < field.Value.Count; i++)\n",
    "                                {\n",
    "                                    result += field.Value[i].name;\n",
    "                                    if (i < field.Value.Count - 1)\n",
    "                                    {\n",
    "                                        result += \",\";\n",
    "                                    }\n",
    "                                }\n",
    "                                result += \";\\n\";\n",
    "                            }\n",
    "                            result += \"***\";\n",
    "                        }\n",
    "                    }\n",
    "                    return result;\n",
    "                };\n",
    "                Func<List<Dictionary<string, List<Value>>>, string> fieldsInHTML = (List<Dictionary<string, List<Value>>> fields) =>\n",
    "                {\n",
    "                    return fieldsInRawText.Invoke(fields).Replace(\"\\n\", \"<br />\");\n",
    "                };\n",
    "                return \"<span title=\\\"\" + fieldsInRawText.Invoke(realizationFields) + \"\\\" data-content=\\\"\" + fieldsInHTML.Invoke(realizationFields) + \"\\\" class=\\\"word\\\" id=\\\"\" + this.documentID + \"|\" + this.textID + \"|\" + this.clauseID + \"|\" + this.realizationID + \"\\\"> \" + this.lexemeTwo + \"</span>\";\n",
    "            }\n",
    "            catch\n",
    "            {\n",
    "                return \"<span title= \\\"\\\" data-content=\\\"\\\" class=\\\"word\\\" id=\\\"\" + this.documentID + \"|\" + this.textID + \"|\" + this.clauseID + \"|\" + this.realizationID + \"\\\"> \" + this.lexemeTwo + \"</span>\";\n",
    "            }\n",
    "        }\n",
    "\n",
    "        public bool Equals(Realization other)\n",
    "        {\n",
    "            if (documentID == other.documentID && textID == other.textID && clauseID == other.clauseID && realizationID == other.realizationID) return true;\n",
    "            return false;\n",
    "        }\n",
    "\n",
    "        #endregion\n",
    "\n",
    "        #region privateMethods\n",
    "        #endregion\n",
    "\n",
    "    }"
   ]
  },
  {
   "cell_type": "code",
   "execution_count": null,
   "metadata": {
    "dotnet_interactive": {
     "language": "csharp"
    },
    "vscode": {
     "languageId": "dotnet-interactive.csharp"
    }
   },
   "outputs": [],
   "source": [
    "var dirTexts = Path.Combine(Directory.GetCurrentDirectory(), \"files\", \"Output\", \"parallelizedDocuments\");\n",
    "Directory.CreateDirectory(dirTexts);\n",
    "DirectoryInfo directoryTextsInfo = new DirectoryInfo(dirTexts);\n",
    "ParallelDocument parallelDocument = new ParallelDocument();\n",
    "parallelDocument.id = directoryTextsInfo.GetFiles().Length.ToString();\n",
    "parallelDocument.name = docToParallelize.documentName;\n",
    "parallelDocument.documentMetaData = docToParallelize.documentMetaData;\n",
    "int maxClausesNumber = docToParallelize.texts.Select(t => t.clauses.Count).Max();\n",
    "ParallelClause[,] parallelMatrix = new ParallelClause[maxClausesNumber, docToParallelize.texts.Count];\n",
    "for (int i = 0; i < maxClausesNumber; i++)\n",
    "{\n",
    "    for (int j = 0; j < docToParallelize.texts.Count; j++)\n",
    "    {\n",
    "        if (docToParallelize.texts[j].clauses.Count > i)\n",
    "        {\n",
    "            parallelMatrix[i, j] = new ParallelClause\n",
    "            {\n",
    "                textName = docToParallelize.texts[j].textName,\n",
    "                textMetaData = docToParallelize.texts[j].textMetaData,\n",
    "                clause = docToParallelize.texts[j].clauses[i]\n",
    "            };\n",
    "            continue;\n",
    "        }\n",
    "        parallelMatrix[i, j] = new ParallelClause\n",
    "        {\n",
    "            textName = docToParallelize.texts[j].textName,\n",
    "            textMetaData = docToParallelize.texts[j].textMetaData,\n",
    "            clause = null\n",
    "        };\n",
    "    }\n",
    "}\n",
    "parallelDocument.parallelClauses = parallelMatrix;\n",
    "string documentInJSON = JsonConvert.SerializeObject(parallelDocument, Formatting.Indented);"
   ]
  },
  {
   "cell_type": "code",
   "execution_count": null,
   "metadata": {
    "dotnet_interactive": {
     "language": "csharp"
    },
    "vscode": {
     "languageId": "dotnet-interactive.csharp"
    }
   },
   "outputs": [],
   "source": [
    "string parallelDataInfo = await GetInputAsync(\"Insert a name of a document that contains the data for the parallelization\");\n",
    "string parallelDataDoc = Path.Combine(Directory.GetCurrentDirectory(), \"files\", parallelDataInfo + \".csv\");"
   ]
  },
  {
   "cell_type": "code",
   "execution_count": null,
   "metadata": {
    "dotnet_interactive": {
     "language": "csharp"
    },
    "vscode": {
     "languageId": "dotnet-interactive.csharp"
    }
   },
   "outputs": [],
   "source": [
    "System.Data.DataSet ds_parallel = new();\n",
    "\n",
    "using (var stream = File.Open(parallelDataDoc, FileMode.Open, FileAccess.Read))\n",
    "{\n",
    "    IExcelDataReader reader;\n",
    "    reader = ExcelDataReader.ExcelReaderFactory.CreateCsvReader(stream);\n",
    "    var conf = new ExcelDataSetConfiguration()\n",
    "    {\n",
    "        ConfigureDataTable = (tableReader) => new ExcelDataTableConfiguration()\n",
    "        {\n",
    "            UseHeaderRow = true\n",
    "        }\n",
    "    };\n",
    "    ds_parallel = reader.AsDataSet(conf);    \n",
    "}"
   ]
  },
  {
   "cell_type": "code",
   "execution_count": null,
   "metadata": {
    "dotnet_interactive": {
     "language": "csharp"
    },
    "vscode": {
     "languageId": "dotnet-interactive.csharp"
    }
   },
   "outputs": [
    {
     "name": "stdout",
     "output_type": "stream",
     "text": [
      "1 Noi 1 mi  \r\n",
      "2 Angelo – –  \r\n",
      "3 Barbaro – –  \r\n",
      "4 Conte 2 knez  \r\n",
      "5, 6 di Zara 3 zadarski  \r\n"
     ]
    }
   ],
   "source": [
    "var parallelData = ds_parallel.Tables[0];\n",
    "parallelData.Head(5, true);"
   ]
  },
  {
   "cell_type": "code",
   "execution_count": null,
   "metadata": {
    "dotnet_interactive": {
     "language": "csharp"
    },
    "vscode": {
     "languageId": "dotnet-interactive.csharp"
    }
   },
   "outputs": [],
   "source": [
    "parallelDocument.parallelTokens = new();\n",
    "for (int i = 0; i < parallelData.Rows.Count; i++) \n",
    "{\n",
    "    var token2Add = new ParallelToken();\n",
    "    \n",
    "    for (int j = 0; j < parallelData.Columns.Count; j = j + 2) \n",
    "    {\n",
    "        RealizationGroup currentGroup = new RealizationGroup();\n",
    "        var singleTokenIds = parallelData.AsDataView()[i][j].ToString().Split(',').Where(t => t != \"\").Select(t => t.Trim()).ToList();\n",
    "        foreach (var id in singleTokenIds)\n",
    "        {\n",
    "            if (id != \"–\") \n",
    "            {\n",
    "                var singleToken = parallelDocument.parallelClauses[0, j/2].clause.realizations.Where(r => r.realizationID == id).FirstOrDefault();\n",
    "                singleToken.documentID = parallelDocument.id;\n",
    "                singleToken.textID = \"0\";\n",
    "                singleToken.clauseID = (j/2).ToString();\n",
    "                if (!currentGroup.Contains(singleToken)) currentGroup.Add(singleToken);\n",
    "            }\n",
    "        }\n",
    "        token2Add.Add(currentGroup);        \n",
    "    }\n",
    "    if (token2Add.All(rg => rg.Count > 0))\n",
    "    {\n",
    "        parallelDocument.parallelTokens.Add(token2Add);\n",
    "    }    \n",
    "}"
   ]
  },
  {
   "cell_type": "code",
   "execution_count": null,
   "metadata": {
    "dotnet_interactive": {
     "language": "csharp"
    },
    "vscode": {
     "languageId": "dotnet-interactive.csharp"
    }
   },
   "outputs": [],
   "source": [
    "if (!(parallelDocument is null))\n",
    "{\n",
    "    var parallelDocumentInJSON = parallelDocument.Jsonize();\n",
    "    var documentDBFile = Path.Combine(dirTexts, directoryTextsInfo.GetFiles().Length.ToString() + \"_\" + docToParallelize.documentName + \".json\");\n",
    "    FileStream fs = new FileStream(documentDBFile, FileMode.Create);\n",
    "    using (StreamWriter w = new StreamWriter(fs))\n",
    "    {\n",
    "        w.Write(parallelDocumentInJSON);\n",
    "    }\n",
    "}"
   ]
  },
  {
   "cell_type": "markdown",
   "metadata": {},
   "source": []
  }
 ],
 "metadata": {
  "kernelspec": {
   "display_name": ".NET (C#)",
   "language": "C#",
   "name": ".net-csharp"
  },
  "language_info": {
   "name": "C#"
  }
 },
 "nbformat": 4,
 "nbformat_minor": 2
}
